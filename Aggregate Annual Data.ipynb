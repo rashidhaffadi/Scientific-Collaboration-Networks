{
 "cells": [
  {
   "cell_type": "code",
   "execution_count": 1,
   "metadata": {},
   "outputs": [],
   "source": [
    "import pandas as pd"
   ]
  },
  {
   "cell_type": "code",
   "execution_count": 2,
   "metadata": {},
   "outputs": [],
   "source": [
    "def read_file(filename):\n",
    "    df = pd.read_csv(filename)\n",
    "    return df\n",
    "def merge_files(filenames):\n",
    "    files = [read_file(filename) for filename in filenames]\n",
    "    dataframe = files[0]\n",
    "    for i in range(1, len(files)):\n",
    "        dataframe = dataframe.append(files[i], ignore_index = True, sort = True)\n",
    "    return dataframe"
   ]
  },
  {
   "cell_type": "code",
   "execution_count": 3,
   "metadata": {},
   "outputs": [
    {
     "data": {
      "text/plain": [
       "['./data/2010.csv',\n",
       " './data/2011.csv',\n",
       " './data/2012.csv',\n",
       " './data/2013.csv',\n",
       " './data/2014.csv',\n",
       " './data/2015.csv',\n",
       " './data/2016.csv',\n",
       " './data/2017.csv',\n",
       " './data/2018.csv',\n",
       " './data/2019.csv',\n",
       " './data/2020.csv']"
      ]
     },
     "execution_count": 3,
     "metadata": {},
     "output_type": "execute_result"
    }
   ],
   "source": [
    "filenames = [\"./data/\"+str(i)+\".csv\" for i in range(2010, 2021)]\n",
    "filenames"
   ]
  },
  {
   "cell_type": "code",
   "execution_count": 4,
   "metadata": {},
   "outputs": [
    {
     "data": {
      "text/plain": [
       "(22000, 15)"
      ]
     },
     "execution_count": 4,
     "metadata": {},
     "output_type": "execute_result"
    }
   ],
   "source": [
    "data = merge_files(filenames)\n",
    "data.shape"
   ]
  },
  {
   "cell_type": "code",
   "execution_count": 5,
   "metadata": {},
   "outputs": [
    {
     "data": {
      "text/html": [
       "<div>\n",
       "<style scoped>\n",
       "    .dataframe tbody tr th:only-of-type {\n",
       "        vertical-align: middle;\n",
       "    }\n",
       "\n",
       "    .dataframe tbody tr th {\n",
       "        vertical-align: top;\n",
       "    }\n",
       "\n",
       "    .dataframe thead th {\n",
       "        text-align: right;\n",
       "    }\n",
       "</style>\n",
       "<table border=\"1\" class=\"dataframe\">\n",
       "  <thead>\n",
       "    <tr style=\"text-align: right;\">\n",
       "      <th></th>\n",
       "      <th>Access Type</th>\n",
       "      <th>Affiliations</th>\n",
       "      <th>Author(s) ID</th>\n",
       "      <th>Authors</th>\n",
       "      <th>Authors with affiliations</th>\n",
       "      <th>Cited by</th>\n",
       "      <th>DOI</th>\n",
       "      <th>Document Type</th>\n",
       "      <th>EID</th>\n",
       "      <th>Link</th>\n",
       "      <th>Publication Stage</th>\n",
       "      <th>Source</th>\n",
       "      <th>Source title</th>\n",
       "      <th>Title</th>\n",
       "      <th>Year</th>\n",
       "    </tr>\n",
       "  </thead>\n",
       "  <tbody>\n",
       "    <tr>\n",
       "      <th>0</th>\n",
       "      <td>NaN</td>\n",
       "      <td>Systems' Architecture Team, Ensem, Hassan II U...</td>\n",
       "      <td>36701835800;24725091300;</td>\n",
       "      <td>Moutaouakkil F., Medromi H.</td>\n",
       "      <td>Moutaouakkil, F., Systems' Architecture Team, ...</td>\n",
       "      <td>1.0</td>\n",
       "      <td>NaN</td>\n",
       "      <td>Conference Paper</td>\n",
       "      <td>2-s2.0-78650590294</td>\n",
       "      <td>https://www.scopus.com/inward/record.uri?eid=2...</td>\n",
       "      <td>NaN</td>\n",
       "      <td>Scopus</td>\n",
       "      <td>ICCTD 2010 - 2010 2nd International Conference...</td>\n",
       "      <td>Control robot by multiagent control architecture</td>\n",
       "      <td>2010</td>\n",
       "    </tr>\n",
       "    <tr>\n",
       "      <th>1</th>\n",
       "      <td>NaN</td>\n",
       "      <td>Laboratoire de Chimie Physique Générale, Facul...</td>\n",
       "      <td>36911796000;24823985800;6602908622;7004122780;...</td>\n",
       "      <td>Saoiabi S., El Asri S., Laghzizil A., Coradin ...</td>\n",
       "      <td>Saoiabi, S., Laboratoire de Chimie Physique Gé...</td>\n",
       "      <td>18.0</td>\n",
       "      <td>NaN</td>\n",
       "      <td>Article</td>\n",
       "      <td>2-s2.0-77957200426</td>\n",
       "      <td>https://www.scopus.com/inward/record.uri?eid=2...</td>\n",
       "      <td>NaN</td>\n",
       "      <td>Scopus</td>\n",
       "      <td>Materials Letters</td>\n",
       "      <td>Nanoporous surface of organofunctionalized hyd...</td>\n",
       "      <td>2010</td>\n",
       "    </tr>\n",
       "    <tr>\n",
       "      <th>2</th>\n",
       "      <td>NaN</td>\n",
       "      <td>University Caddy Ayyad, Bd. Prince My Abdellah...</td>\n",
       "      <td>6602701872;35760797400;35760820700;7006304181;</td>\n",
       "      <td>Mesquine F., Bakka O., El Bahja H., Vega P.</td>\n",
       "      <td>Mesquine, F., University Caddy Ayyad, Bd. Prin...</td>\n",
       "      <td>5.0</td>\n",
       "      <td>NaN</td>\n",
       "      <td>Conference Paper</td>\n",
       "      <td>2-s2.0-78650543019</td>\n",
       "      <td>https://www.scopus.com/inward/record.uri?eid=2...</td>\n",
       "      <td>NaN</td>\n",
       "      <td>Scopus</td>\n",
       "      <td>Proceedings of the 15th IEEE International Con...</td>\n",
       "      <td>Observer based regulator problem for WWTP with...</td>\n",
       "      <td>2010</td>\n",
       "    </tr>\n",
       "    <tr>\n",
       "      <th>3</th>\n",
       "      <td>NaN</td>\n",
       "      <td>Mohammed V University, Engineering Mohammedia ...</td>\n",
       "      <td>36696079100;55944424900;55935818600;</td>\n",
       "      <td>El Alem W., El Hami A., Ellaia R.</td>\n",
       "      <td>El Alem, W., Mohammed V University, Engineerin...</td>\n",
       "      <td>1.0</td>\n",
       "      <td>NaN</td>\n",
       "      <td>Conference Paper</td>\n",
       "      <td>2-s2.0-78650491532</td>\n",
       "      <td>https://www.scopus.com/inward/record.uri?eid=2...</td>\n",
       "      <td>NaN</td>\n",
       "      <td>Scopus</td>\n",
       "      <td>Key Engineering Materials</td>\n",
       "      <td>Structural shape optimization using an adaptiv...</td>\n",
       "      <td>2010</td>\n",
       "    </tr>\n",
       "    <tr>\n",
       "      <th>4</th>\n",
       "      <td>NaN</td>\n",
       "      <td>ENSIETA, LBMS, Mechanics of Naval and Offshore...</td>\n",
       "      <td>55923106700;23092984100;7003567324;</td>\n",
       "      <td>Tarfaoui M., Choukri S., Neme A.</td>\n",
       "      <td>Tarfaoui, M., ENSIETA, LBMS, Mechanics of Nava...</td>\n",
       "      <td>6.0</td>\n",
       "      <td>NaN</td>\n",
       "      <td>Conference Paper</td>\n",
       "      <td>2-s2.0-78650482106</td>\n",
       "      <td>https://www.scopus.com/inward/record.uri?eid=2...</td>\n",
       "      <td>NaN</td>\n",
       "      <td>Scopus</td>\n",
       "      <td>Key Engineering Materials</td>\n",
       "      <td>Dynamic response of symmetric and asymmetric E...</td>\n",
       "      <td>2010</td>\n",
       "    </tr>\n",
       "  </tbody>\n",
       "</table>\n",
       "</div>"
      ],
      "text/plain": [
       "  Access Type                                       Affiliations  \\\n",
       "0         NaN  Systems' Architecture Team, Ensem, Hassan II U...   \n",
       "1         NaN  Laboratoire de Chimie Physique Générale, Facul...   \n",
       "2         NaN  University Caddy Ayyad, Bd. Prince My Abdellah...   \n",
       "3         NaN  Mohammed V University, Engineering Mohammedia ...   \n",
       "4         NaN  ENSIETA, LBMS, Mechanics of Naval and Offshore...   \n",
       "\n",
       "                                        Author(s) ID  \\\n",
       "0                           36701835800;24725091300;   \n",
       "1  36911796000;24823985800;6602908622;7004122780;...   \n",
       "2     6602701872;35760797400;35760820700;7006304181;   \n",
       "3               36696079100;55944424900;55935818600;   \n",
       "4                55923106700;23092984100;7003567324;   \n",
       "\n",
       "                                             Authors  \\\n",
       "0                        Moutaouakkil F., Medromi H.   \n",
       "1  Saoiabi S., El Asri S., Laghzizil A., Coradin ...   \n",
       "2        Mesquine F., Bakka O., El Bahja H., Vega P.   \n",
       "3                  El Alem W., El Hami A., Ellaia R.   \n",
       "4                   Tarfaoui M., Choukri S., Neme A.   \n",
       "\n",
       "                           Authors with affiliations  Cited by  DOI  \\\n",
       "0  Moutaouakkil, F., Systems' Architecture Team, ...       1.0  NaN   \n",
       "1  Saoiabi, S., Laboratoire de Chimie Physique Gé...      18.0  NaN   \n",
       "2  Mesquine, F., University Caddy Ayyad, Bd. Prin...       5.0  NaN   \n",
       "3  El Alem, W., Mohammed V University, Engineerin...       1.0  NaN   \n",
       "4  Tarfaoui, M., ENSIETA, LBMS, Mechanics of Nava...       6.0  NaN   \n",
       "\n",
       "      Document Type                 EID  \\\n",
       "0  Conference Paper  2-s2.0-78650590294   \n",
       "1           Article  2-s2.0-77957200426   \n",
       "2  Conference Paper  2-s2.0-78650543019   \n",
       "3  Conference Paper  2-s2.0-78650491532   \n",
       "4  Conference Paper  2-s2.0-78650482106   \n",
       "\n",
       "                                                Link Publication Stage  \\\n",
       "0  https://www.scopus.com/inward/record.uri?eid=2...               NaN   \n",
       "1  https://www.scopus.com/inward/record.uri?eid=2...               NaN   \n",
       "2  https://www.scopus.com/inward/record.uri?eid=2...               NaN   \n",
       "3  https://www.scopus.com/inward/record.uri?eid=2...               NaN   \n",
       "4  https://www.scopus.com/inward/record.uri?eid=2...               NaN   \n",
       "\n",
       "   Source                                       Source title  \\\n",
       "0  Scopus  ICCTD 2010 - 2010 2nd International Conference...   \n",
       "1  Scopus                                  Materials Letters   \n",
       "2  Scopus  Proceedings of the 15th IEEE International Con...   \n",
       "3  Scopus                          Key Engineering Materials   \n",
       "4  Scopus                          Key Engineering Materials   \n",
       "\n",
       "                                               Title  Year  \n",
       "0   Control robot by multiagent control architecture  2010  \n",
       "1  Nanoporous surface of organofunctionalized hyd...  2010  \n",
       "2  Observer based regulator problem for WWTP with...  2010  \n",
       "3  Structural shape optimization using an adaptiv...  2010  \n",
       "4  Dynamic response of symmetric and asymmetric E...  2010  "
      ]
     },
     "execution_count": 5,
     "metadata": {},
     "output_type": "execute_result"
    }
   ],
   "source": [
    "data.head()"
   ]
  },
  {
   "cell_type": "code",
   "execution_count": 6,
   "metadata": {},
   "outputs": [
    {
     "data": {
      "text/plain": [
       "(22000, 15)"
      ]
     },
     "execution_count": 6,
     "metadata": {},
     "output_type": "execute_result"
    }
   ],
   "source": [
    "data.shape"
   ]
  },
  {
   "cell_type": "code",
   "execution_count": 7,
   "metadata": {},
   "outputs": [],
   "source": [
    "del data[\"Access Type\"], data['DOI'], data['EID'], data[\"Publication Stage\"], data[\"Link\"]"
   ]
  },
  {
   "cell_type": "code",
   "execution_count": 8,
   "metadata": {},
   "outputs": [],
   "source": [
    "data.to_pickle(\"./data/data.pkl\")"
   ]
  },
  {
   "cell_type": "code",
   "execution_count": 9,
   "metadata": {},
   "outputs": [],
   "source": [
    "data = pd.read_pickle(\"./data/data.pkl\")"
   ]
  },
  {
   "cell_type": "code",
   "execution_count": 10,
   "metadata": {},
   "outputs": [
    {
     "data": {
      "text/html": [
       "<div>\n",
       "<style scoped>\n",
       "    .dataframe tbody tr th:only-of-type {\n",
       "        vertical-align: middle;\n",
       "    }\n",
       "\n",
       "    .dataframe tbody tr th {\n",
       "        vertical-align: top;\n",
       "    }\n",
       "\n",
       "    .dataframe thead th {\n",
       "        text-align: right;\n",
       "    }\n",
       "</style>\n",
       "<table border=\"1\" class=\"dataframe\">\n",
       "  <thead>\n",
       "    <tr style=\"text-align: right;\">\n",
       "      <th></th>\n",
       "      <th>Affiliations</th>\n",
       "      <th>Author(s) ID</th>\n",
       "      <th>Authors</th>\n",
       "      <th>Authors with affiliations</th>\n",
       "      <th>Cited by</th>\n",
       "      <th>Document Type</th>\n",
       "      <th>Source</th>\n",
       "      <th>Source title</th>\n",
       "      <th>Title</th>\n",
       "      <th>Year</th>\n",
       "    </tr>\n",
       "  </thead>\n",
       "  <tbody>\n",
       "    <tr>\n",
       "      <th>0</th>\n",
       "      <td>Systems' Architecture Team, Ensem, Hassan II U...</td>\n",
       "      <td>36701835800;24725091300;</td>\n",
       "      <td>Moutaouakkil F., Medromi H.</td>\n",
       "      <td>Moutaouakkil, F., Systems' Architecture Team, ...</td>\n",
       "      <td>1.0</td>\n",
       "      <td>Conference Paper</td>\n",
       "      <td>Scopus</td>\n",
       "      <td>ICCTD 2010 - 2010 2nd International Conference...</td>\n",
       "      <td>Control robot by multiagent control architecture</td>\n",
       "      <td>2010</td>\n",
       "    </tr>\n",
       "    <tr>\n",
       "      <th>1</th>\n",
       "      <td>Laboratoire de Chimie Physique Générale, Facul...</td>\n",
       "      <td>36911796000;24823985800;6602908622;7004122780;...</td>\n",
       "      <td>Saoiabi S., El Asri S., Laghzizil A., Coradin ...</td>\n",
       "      <td>Saoiabi, S., Laboratoire de Chimie Physique Gé...</td>\n",
       "      <td>18.0</td>\n",
       "      <td>Article</td>\n",
       "      <td>Scopus</td>\n",
       "      <td>Materials Letters</td>\n",
       "      <td>Nanoporous surface of organofunctionalized hyd...</td>\n",
       "      <td>2010</td>\n",
       "    </tr>\n",
       "    <tr>\n",
       "      <th>2</th>\n",
       "      <td>University Caddy Ayyad, Bd. Prince My Abdellah...</td>\n",
       "      <td>6602701872;35760797400;35760820700;7006304181;</td>\n",
       "      <td>Mesquine F., Bakka O., El Bahja H., Vega P.</td>\n",
       "      <td>Mesquine, F., University Caddy Ayyad, Bd. Prin...</td>\n",
       "      <td>5.0</td>\n",
       "      <td>Conference Paper</td>\n",
       "      <td>Scopus</td>\n",
       "      <td>Proceedings of the 15th IEEE International Con...</td>\n",
       "      <td>Observer based regulator problem for WWTP with...</td>\n",
       "      <td>2010</td>\n",
       "    </tr>\n",
       "    <tr>\n",
       "      <th>3</th>\n",
       "      <td>Mohammed V University, Engineering Mohammedia ...</td>\n",
       "      <td>36696079100;55944424900;55935818600;</td>\n",
       "      <td>El Alem W., El Hami A., Ellaia R.</td>\n",
       "      <td>El Alem, W., Mohammed V University, Engineerin...</td>\n",
       "      <td>1.0</td>\n",
       "      <td>Conference Paper</td>\n",
       "      <td>Scopus</td>\n",
       "      <td>Key Engineering Materials</td>\n",
       "      <td>Structural shape optimization using an adaptiv...</td>\n",
       "      <td>2010</td>\n",
       "    </tr>\n",
       "    <tr>\n",
       "      <th>4</th>\n",
       "      <td>ENSIETA, LBMS, Mechanics of Naval and Offshore...</td>\n",
       "      <td>55923106700;23092984100;7003567324;</td>\n",
       "      <td>Tarfaoui M., Choukri S., Neme A.</td>\n",
       "      <td>Tarfaoui, M., ENSIETA, LBMS, Mechanics of Nava...</td>\n",
       "      <td>6.0</td>\n",
       "      <td>Conference Paper</td>\n",
       "      <td>Scopus</td>\n",
       "      <td>Key Engineering Materials</td>\n",
       "      <td>Dynamic response of symmetric and asymmetric E...</td>\n",
       "      <td>2010</td>\n",
       "    </tr>\n",
       "  </tbody>\n",
       "</table>\n",
       "</div>"
      ],
      "text/plain": [
       "                                        Affiliations  \\\n",
       "0  Systems' Architecture Team, Ensem, Hassan II U...   \n",
       "1  Laboratoire de Chimie Physique Générale, Facul...   \n",
       "2  University Caddy Ayyad, Bd. Prince My Abdellah...   \n",
       "3  Mohammed V University, Engineering Mohammedia ...   \n",
       "4  ENSIETA, LBMS, Mechanics of Naval and Offshore...   \n",
       "\n",
       "                                        Author(s) ID  \\\n",
       "0                           36701835800;24725091300;   \n",
       "1  36911796000;24823985800;6602908622;7004122780;...   \n",
       "2     6602701872;35760797400;35760820700;7006304181;   \n",
       "3               36696079100;55944424900;55935818600;   \n",
       "4                55923106700;23092984100;7003567324;   \n",
       "\n",
       "                                             Authors  \\\n",
       "0                        Moutaouakkil F., Medromi H.   \n",
       "1  Saoiabi S., El Asri S., Laghzizil A., Coradin ...   \n",
       "2        Mesquine F., Bakka O., El Bahja H., Vega P.   \n",
       "3                  El Alem W., El Hami A., Ellaia R.   \n",
       "4                   Tarfaoui M., Choukri S., Neme A.   \n",
       "\n",
       "                           Authors with affiliations  Cited by  \\\n",
       "0  Moutaouakkil, F., Systems' Architecture Team, ...       1.0   \n",
       "1  Saoiabi, S., Laboratoire de Chimie Physique Gé...      18.0   \n",
       "2  Mesquine, F., University Caddy Ayyad, Bd. Prin...       5.0   \n",
       "3  El Alem, W., Mohammed V University, Engineerin...       1.0   \n",
       "4  Tarfaoui, M., ENSIETA, LBMS, Mechanics of Nava...       6.0   \n",
       "\n",
       "      Document Type  Source  \\\n",
       "0  Conference Paper  Scopus   \n",
       "1           Article  Scopus   \n",
       "2  Conference Paper  Scopus   \n",
       "3  Conference Paper  Scopus   \n",
       "4  Conference Paper  Scopus   \n",
       "\n",
       "                                        Source title  \\\n",
       "0  ICCTD 2010 - 2010 2nd International Conference...   \n",
       "1                                  Materials Letters   \n",
       "2  Proceedings of the 15th IEEE International Con...   \n",
       "3                          Key Engineering Materials   \n",
       "4                          Key Engineering Materials   \n",
       "\n",
       "                                               Title  Year  \n",
       "0   Control robot by multiagent control architecture  2010  \n",
       "1  Nanoporous surface of organofunctionalized hyd...  2010  \n",
       "2  Observer based regulator problem for WWTP with...  2010  \n",
       "3  Structural shape optimization using an adaptiv...  2010  \n",
       "4  Dynamic response of symmetric and asymmetric E...  2010  "
      ]
     },
     "execution_count": 10,
     "metadata": {},
     "output_type": "execute_result"
    }
   ],
   "source": [
    "data.head()"
   ]
  },
  {
   "cell_type": "code",
   "execution_count": 11,
   "metadata": {},
   "outputs": [
    {
     "data": {
      "text/plain": [
       "<matplotlib.axes._subplots.AxesSubplot at 0x271df2ac6c8>"
      ]
     },
     "execution_count": 11,
     "metadata": {},
     "output_type": "execute_result"
    },
    {
     "data": {
      "image/png": "[encoded data removed]",
      "text/plain": [
       "<Figure size 432x288 with 1 Axes>"
      ]
     },
     "metadata": {
      "needs_background": "light"
     },
     "output_type": "display_data"
    }
   ],
   "source": [
    "data['Cited by'].hist()"
   ]
  },
  {
   "cell_type": "code",
   "execution_count": null,
   "metadata": {},
   "outputs": [],
   "source": []
  }
 ],
 "metadata": {
  "kernelspec": {
   "display_name": "Python 3",
   "language": "python",
   "name": "python3"
  },
  "language_info": {
   "codemirror_mode": {
    "name": "ipython",
    "version": 3
   },
   "file_extension": ".py",
   "mimetype": "text/x-python",
   "name": "python",
   "nbconvert_exporter": "python",
   "pygments_lexer": "ipython3",
   "version": "3.7.5"
  }
 },
 "nbformat": 4,
 "nbformat_minor": 4
}
